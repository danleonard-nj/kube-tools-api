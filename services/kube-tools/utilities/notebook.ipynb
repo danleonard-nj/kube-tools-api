{
 "cells": [
  {
   "cell_type": "code",
   "execution_count": null,
   "metadata": {},
   "outputs": [],
   "source": [
    "import requests"
   ]
  },
  {
   "cell_type": "code",
   "execution_count": null,
   "metadata": {},
   "outputs": [],
   "source": [
    "js_app_url = 'https://truthsocial.com/packs/js/application-095349ba2cc4ec97269a.js'\n",
    "js_common_url = 'https://truthsocial.com/packs/js/common-398c193c1470bae61724.js'"
   ]
  }
 ],
 "metadata": {
  "kernelspec": {
   "display_name": "Python 3.9.0 64-bit",
   "language": "python",
   "name": "python3"
  },
  "language_info": {
   "name": "python",
   "version": "3.9.0"
  },
  "orig_nbformat": 4,
  "vscode": {
   "interpreter": {
    "hash": "efdf8e9a707389bdc6a975f42a6e70765977fd351517fc194718dba872e618d6"
   }
  }
 },
 "nbformat": 4,
 "nbformat_minor": 2
}
