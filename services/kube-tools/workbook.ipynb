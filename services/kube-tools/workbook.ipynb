{
 "cells": [
  {
   "cell_type": "code",
   "execution_count": 1,
   "metadata": {},
   "outputs": [],
   "source": [
    "from utilities.provider import ContainerProvider"
   ]
  },
  {
   "cell_type": "code",
   "execution_count": 3,
   "metadata": {},
   "outputs": [
    {
     "name": "stderr",
     "output_type": "stream",
     "text": [
      "[2023-05-31 02:00:37,856] [2160] [clients.identity_client]: [INFO]: Registering auth client credential configs\n",
      "[2023-05-31 02:00:37,858] [2160] [clients.identity_client]: [INFO]: Parsing auth client config: kube-tools-api\n",
      "[2023-05-31 02:00:37,858] [2160] [clients.identity_client]: [INFO]: Client registered successfully: kube-tools-api\n",
      "[2023-05-31 02:00:37,859] [2160] [framework.dependency_injection]: [INFO]: Bound service provider to internal provider\n"
     ]
    }
   ],
   "source": [
    "provider = ContainerProvider.get_service_provider()"
   ]
  },
  {
   "cell_type": "code",
   "execution_count": 4,
   "metadata": {},
   "outputs": [],
   "source": [
    "from services.podcast_service import PodcastService\n",
    "\n",
    "\n",
    "podcast_service = provider.resolve(PodcastService)"
   ]
  },
  {
   "cell_type": "code",
   "execution_count": null,
   "metadata": {},
   "outputs": [],
   "source": [
    "await podcast_service.sync()"
   ]
  }
 ],
 "metadata": {
  "kernelspec": {
   "display_name": "Python 3",
   "language": "python",
   "name": "python3"
  },
  "language_info": {
   "codemirror_mode": {
    "name": "ipython",
    "version": 3
   },
   "file_extension": ".py",
   "mimetype": "text/x-python",
   "name": "python",
   "nbconvert_exporter": "python",
   "pygments_lexer": "ipython3",
   "version": "3.11.2"
  },
  "orig_nbformat": 4,
  "vscode": {
   "interpreter": {
    "hash": "5238573367df39f7286bb46f9ff5f08f63a01a80960060ce41e3c79b190280fa"
   }
  }
 },
 "nbformat": 4,
 "nbformat_minor": 2
}
