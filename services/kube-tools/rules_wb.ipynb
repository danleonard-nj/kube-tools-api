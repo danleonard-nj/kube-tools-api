{
 "cells": [
  {
   "cell_type": "code",
   "execution_count": 1,
   "metadata": {},
   "outputs": [],
   "source": [
    "from pymongo import MongoClient\n",
    "import os"
   ]
  },
  {
   "cell_type": "code",
   "execution_count": 3,
   "metadata": {},
   "outputs": [],
   "source": [
    "cnxn_string = os.environ['MONGO_CNXN']\n",
    "\n",
    "client = MongoClient(cnxn_string)"
   ]
  },
  {
   "cell_type": "code",
   "execution_count": 9,
   "metadata": {},
   "outputs": [],
   "source": [
    "collection = client['Google']['EmailRule']\n",
    "\n",
    "CONFIG_OPTIONS = [\n",
    "    'chat_gpt_include_summary',\n",
    "    'chat_gpt_prompt_template',\n",
    "    'bank_sync_alert_type',\n",
    "    'bank_sync_bank_key'\n",
    "]\n",
    "\n",
    "def update_rule_data(rule_name, rule_data):\n",
    "    for key in rule_data:\n",
    "        if key not in CONFIG_OPTIONS:\n",
    "            raise Exception(f'Invalid key: {key}')\n",
    "    \n",
    "    doc = collection.find_one({\n",
    "        'name' : rule_name\n",
    "    })\n",
    "    \n",
    "    if doc is None:\n",
    "        raise Exception('Rule not found')\n",
    "    \n",
    "    doc['data'] = rule_data\n",
    "    \n",
    "    collection.replace_one({\n",
    "        '_id' : doc['_id']\n",
    "    }, doc)\n",
    "    \n",
    "    return doc\n",
    "\n",
    "def list_rules():\n",
    "    rules = list(collection.find())\n",
    "    return [rule.get('name') for rule in rules]"
   ]
  },
  {
   "cell_type": "code",
   "execution_count": 10,
   "metadata": {},
   "outputs": [
    {
     "data": {
      "text/plain": [
       "{'_id': ObjectId('661cbcab8d5ee090924ad89f'),\n",
       " 'rule_id': '9f496d2f-85ce-472f-a272-64f776bbfb32',\n",
       " 'name': 'DoordashEmailAlerts',\n",
       " 'description': 'Doordash automated emails',\n",
       " 'max_results': 10,\n",
       " 'query': 'from:no-reply@doordash.com',\n",
       " 'action': 'sms',\n",
       " 'data': {'chat_gpt_include_summary': True},\n",
       " 'count_processed': 0,\n",
       " 'modified_date': None,\n",
       " 'created_date': datetime.datetime(2024, 4, 15, 5, 35, 39, 177000)}"
      ]
     },
     "execution_count": 10,
     "metadata": {},
     "output_type": "execute_result"
    }
   ],
   "source": [
    "update_rule_data('DoordashEmailAlerts', {\n",
    "    'chat_gpt_include_summary' : True,\n",
    "    #'chat_gpt_prompt_template' : ''\n",
    "})"
   ]
  },
  {
   "cell_type": "code",
   "execution_count": null,
   "metadata": {},
   "outputs": [],
   "source": [
    "list_rules()"
   ]
  },
  {
   "cell_type": "code",
   "execution_count": 11,
   "metadata": {},
   "outputs": [
    {
     "data": {
      "text/plain": [
       "0"
      ]
     },
     "execution_count": 11,
     "metadata": {},
     "output_type": "execute_result"
    }
   ],
   "source": [
    "len('    '.strip())"
   ]
  },
  {
   "cell_type": "code",
   "execution_count": null,
   "metadata": {},
   "outputs": [],
   "source": []
  }
 ],
 "metadata": {
  "kernelspec": {
   "display_name": "Python 3",
   "language": "python",
   "name": "python3"
  },
  "language_info": {
   "codemirror_mode": {
    "name": "ipython",
    "version": 3
   },
   "file_extension": ".py",
   "mimetype": "text/x-python",
   "name": "python",
   "nbconvert_exporter": "python",
   "pygments_lexer": "ipython3",
   "version": "3.11.5"
  }
 },
 "nbformat": 4,
 "nbformat_minor": 2
}
